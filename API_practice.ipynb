{
 "cells": [
  {
   "cell_type": "code",
   "execution_count": 1,
   "id": "70971d34",
   "metadata": {},
   "outputs": [],
   "source": [
    "# use the citipy module to determine city based on lats and lngs\n",
    "from citipy import citipy\n",
    "import requests\n",
    "from datetime import datetime"
   ]
  },
  {
   "cell_type": "code",
   "execution_count": 2,
   "id": "68e78ac4",
   "metadata": {},
   "outputs": [],
   "source": [
    "# Create a practice set of random latitude and longitude combinations.\n",
    "x = [25.12903645, 25.92017388, 26.62509167, -59.98969384, 37.30571269]\n",
    "y = [-67.59741259, 11.09532135, 74.84233102, -76.89176677, -61.13376282]\n",
    "coordinates = zip(x, y)"
   ]
  },
  {
   "cell_type": "code",
   "execution_count": 3,
   "id": "aa2ddc8f",
   "metadata": {},
   "outputs": [
    {
     "name": "stdout",
     "output_type": "stream",
     "text": [
      "cockburn town tc\n",
      "gat ly\n",
      "parvatsar in\n",
      "punta arenas cl\n",
      "saint george bm\n"
     ]
    }
   ],
   "source": [
    "# use tuple function to display the lats and lngs combos\n",
    "for coordinate in coordinates:\n",
    "    print(citipy.nearest_city(coordinate[0], coordinate[1]).city_name,\n",
    "         citipy.nearest_city(coordinate[0], coordinate[1]).country_code)"
   ]
  },
  {
   "cell_type": "code",
   "execution_count": 4,
   "id": "135c7b8a",
   "metadata": {},
   "outputs": [],
   "source": [
    "for coordinate in coordinates:\n",
    "    print(coordinate[0], coordinate[1])"
   ]
  },
  {
   "cell_type": "code",
   "execution_count": 5,
   "id": "ed391fee",
   "metadata": {},
   "outputs": [
    {
     "name": "stdout",
     "output_type": "stream",
     "text": [
      "37.30571269\n"
     ]
    }
   ],
   "source": [
    "print(coordinate[0])"
   ]
  },
  {
   "cell_type": "code",
   "execution_count": null,
   "id": "5cc1260c",
   "metadata": {},
   "outputs": [],
   "source": [
    "# import the API key\n",
    "from config import weather_api_key"
   ]
  },
  {
   "cell_type": "code",
   "execution_count": null,
   "id": "e108d6d0",
   "metadata": {},
   "outputs": [],
   "source": [
    "# starting URL for Weather Map API Call \n",
    "url = \"http://api.openweathermap.org/data/2.5/weather?units=Imperial&APPID=\" + weather_api_key"
   ]
  },
  {
   "cell_type": "code",
   "execution_count": null,
   "id": "7279fc0c",
   "metadata": {},
   "outputs": [],
   "source": [
    "city_url = url + '&q=' + 'Boston'"
   ]
  },
  {
   "cell_type": "code",
   "execution_count": null,
   "id": "2eb8004c",
   "metadata": {},
   "outputs": [],
   "source": [
    "# make a 'Get' request for the city weather\n",
    "city_weather = requests.get(city_url)\n",
    "city_weather"
   ]
  },
  {
   "cell_type": "code",
   "execution_count": null,
   "id": "f927a0a5",
   "metadata": {},
   "outputs": [],
   "source": [
    "city_weather.status_code"
   ]
  },
  {
   "cell_type": "code",
   "execution_count": null,
   "id": "b53cabdb",
   "metadata": {},
   "outputs": [],
   "source": [
    "# Get the text of the 'get' request\n",
    "city_weather.text"
   ]
  },
  {
   "cell_type": "code",
   "execution_count": null,
   "id": "5da5055b",
   "metadata": {},
   "outputs": [],
   "source": [
    "city_weather.json()"
   ]
  },
  {
   "cell_type": "code",
   "execution_count": null,
   "id": "8c3806ba",
   "metadata": {},
   "outputs": [],
   "source": [
    "# create an endpoint URL for a city \n",
    "if city_weather.status_code == 200:\n",
    "    print(f'City Weather found.')\n",
    "else:\n",
    "    print(f'City Weather not found.')"
   ]
  },
  {
   "cell_type": "code",
   "execution_count": null,
   "id": "94a17977",
   "metadata": {},
   "outputs": [],
   "source": [
    "city_url = url + '&q=' + 'Boston'\n",
    "city_weather = requests.get(city_url)\n",
    "city_weather.json()"
   ]
  },
  {
   "cell_type": "code",
   "execution_count": null,
   "id": "79bd61af",
   "metadata": {},
   "outputs": [],
   "source": [
    "# get the JSON data\n",
    "boston_data = city_weather.json()"
   ]
  },
  {
   "cell_type": "code",
   "execution_count": null,
   "id": "85b647e6",
   "metadata": {},
   "outputs": [],
   "source": [
    "boston_data['sys']['country']"
   ]
  },
  {
   "cell_type": "code",
   "execution_count": null,
   "id": "f9dcf0d9",
   "metadata": {},
   "outputs": [],
   "source": [
    "lat = boston_data['coord']['lat']\n",
    "lng = boston_data['coord']['lon']\n",
    "max_temp = boston_data['main']['temp_max']\n",
    "humidity = boston_data['main']['humidity']\n",
    "clouds = boston_data['clouds']['all']\n",
    "wind = boston_data['wind']['speed']\n",
    "print(lat, lng, max_temp, humidity, clouds, wind)"
   ]
  },
  {
   "cell_type": "code",
   "execution_count": null,
   "id": "abbbd429",
   "metadata": {},
   "outputs": [],
   "source": [
    "# get the date from the JSON file\n",
    "date = boston_data['dt']\n",
    "\n",
    "# convert to date format \n",
    "datetime.utcfromtimestamp(date).strftime('%Y-%m-%d %H:%M:%S')"
   ]
  },
  {
   "cell_type": "code",
   "execution_count": null,
   "id": "99254a44",
   "metadata": {},
   "outputs": [],
   "source": []
  }
 ],
 "metadata": {
  "kernelspec": {
   "display_name": "PythonData",
   "language": "python",
   "name": "pythondata"
  },
  "language_info": {
   "codemirror_mode": {
    "name": "ipython",
    "version": 3
   },
   "file_extension": ".py",
   "mimetype": "text/x-python",
   "name": "python",
   "nbconvert_exporter": "python",
   "pygments_lexer": "ipython3",
   "version": "3.7.10"
  }
 },
 "nbformat": 4,
 "nbformat_minor": 5
}
